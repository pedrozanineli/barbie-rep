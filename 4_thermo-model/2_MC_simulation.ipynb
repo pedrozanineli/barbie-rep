{
 "cells": [
  {
   "cell_type": "code",
   "execution_count": 1,
   "metadata": {},
   "outputs": [],
   "source": [
    "import numpy as np\n",
    "import matplotlib.pyplot as plt"
   ]
  },
  {
   "cell_type": "code",
   "execution_count": 2,
   "metadata": {},
   "outputs": [],
   "source": [
    "from utils.layers import layers_creation"
   ]
  },
  {
   "cell_type": "code",
   "execution_count": 3,
   "metadata": {},
   "outputs": [],
   "source": [
    "from matplotlib import font_manager\n",
    "\n",
    "font_path = '../Ruda/Ruda-VariableFont_wght.ttf'\n",
    "font_manager.fontManager.addfont(font_path)\n",
    "prop = font_manager.FontProperties(fname=font_path)\n",
    "\n",
    "plt.rcParams['font.family'] = 'sans-serif'\n",
    "plt.rcParams['font.sans-serif'] = prop.get_name()"
   ]
  },
  {
   "cell_type": "code",
   "execution_count": 22,
   "metadata": {},
   "outputs": [],
   "source": [
    "camada = layers_creation(tamanho_rede=100,porosidade=0.9,\n",
    "                         camadas=1,limite_tamanho_poro=20,CBM=True,\n",
    "                         concentracao_cbm=0.1,tamanho_cbm=1,display=False)[0]"
   ]
  },
  {
   "cell_type": "code",
   "execution_count": 23,
   "metadata": {},
   "outputs": [
    {
     "data": {
      "image/png": "[encoded data removed]",
      "text/plain": [
       "<Figure size 640x480 with 1 Axes>"
      ]
     },
     "metadata": {},
     "output_type": "display_data"
    }
   ],
   "source": [
    "plt.imshow(camada)\n",
    "plt.show()"
   ]
  },
  {
   "cell_type": "code",
   "execution_count": 24,
   "metadata": {},
   "outputs": [],
   "source": [
    "def calcular_energia(rede):\n",
    "    energia = 0\n",
    "    tamanho = len(rede)\n",
    "    for i in range(tamanho):\n",
    "        for j in range(tamanho):\n",
    "            S = rede[i, j]\n",
    "            if S == 0:\n",
    "                continue\n",
    "\n",
    "            # Interacao Vizinhos\n",
    "            vizinhos = [\n",
    "                rede[(i+1) % tamanho, j],\n",
    "                rede[i, (j+1) % tamanho],\n",
    "                rede[(i-1) % tamanho, j],\n",
    "                rede[i, (j-1) % tamanho]\n",
    "            ]\n",
    "\n",
    "            # Mudar forma de calcular a energia\n",
    "            \n",
    "            \n",
    "            for V in vizinhos:\n",
    "                if S == 1:  # CBM\n",
    "                    if V == -1:  # CBM com MP\n",
    "                        energia += E_CBMP\n",
    "                    elif V == 2:  # CBM com espid\n",
    "                        energia += E_CBMS\n",
    "                    elif V == 1:  # CBM com CBM\n",
    "                        energia += E_CBMCBM\n",
    "                elif S == 2:  # Espid\n",
    "                    if V == -1:  # Espid com MP\n",
    "                        energia += E_SMP\n",
    "                    elif V == 2:  # Espid com espid\n",
    "                        energia += E_SS\n",
    "                elif S == -1:  # MP\n",
    "                    if V == -1:  # MP com MP\n",
    "                        energia += E_MPMP\n",
    "    \n",
    "    return energia"
   ]
  },
  {
   "cell_type": "code",
   "execution_count": 76,
   "metadata": {},
   "outputs": [],
   "source": [
    "def monte_carlo(rede, mps_count, passos, T, tamanho_limite_mp=50):\n",
    "    \n",
    "    tamanho = len(rede)\n",
    "    \n",
    "    for passo in range(passos):\n",
    "        \n",
    "        # Posicao aleatoria na rede\n",
    "        i = np.random.randint(0, tamanho)\n",
    "        j = np.random.randint(0, tamanho)\n",
    "        tamanho_mp = np.random.randint(0, tamanho_limite_mp)\n",
    "        S = rede[i, j]\n",
    "        \n",
    "        rede_teste = rede.copy()\n",
    "\n",
    "        # Boundary\n",
    "        if i+tamanho_mp < tamanho and j+tamanho_mp < tamanho:\n",
    "            \n",
    "            rede_teste[i:i+tamanho_mp,j:j+tamanho_mp] = 1\n",
    "\n",
    "            energia_atual = calcular_energia(rede)\n",
    "            energia_teste = calcular_energia(rede_teste)\n",
    "            \n",
    "            # Decisao de aceitar ou nao a mudanca\n",
    "            # delta_energia = energia_teste - energia_atual\n",
    "            # if np.random.rand() >= np.exp(-delta_energia / T):\n",
    "\n",
    "            if energia_teste > energia_atual:\n",
    "                rede[i:i+tamanho_mp,j+j:tamanho_mp] = S  # Reverter se nao aceitar\n",
    "            else:\n",
    "                mps_count += 1\n",
    "                rede = rede_teste\n",
    "                    \n",
    "    return rede,mps_count"
   ]
  },
  {
   "cell_type": "code",
   "execution_count": 77,
   "metadata": {},
   "outputs": [],
   "source": [
    "E_CBMP = -24.05\n",
    "E_CBMS = -0.5\n",
    "E_SMP = -0.5\n",
    "E_CBMCBM = -0.5\n",
    "E_SS = -0.5\n",
    "E_MPMP = -0.5"
   ]
  },
  {
   "cell_type": "code",
   "execution_count": 94,
   "metadata": {},
   "outputs": [],
   "source": [
    "it = 40\n",
    "energias,mps_list = [],[]\n",
    "\n",
    "for n in range(it):\n",
    "\n",
    "    mps_count = 0\n",
    "\n",
    "    rede,mps_count = monte_carlo(camada, mps_count, passos=20, T=1)\n",
    "    energia_atual = calcular_energia(rede)\n",
    "\n",
    "    energias.append(energia_atual)\n",
    "    # mps_list.append(list(rede.flatten()).count(1))\n",
    "    mps_list.append(mps_count)"
   ]
  },
  {
   "cell_type": "code",
   "execution_count": 97,
   "metadata": {},
   "outputs": [
    {
     "data": {
      "image/png": "[encoded data removed]",
      "text/plain": [
       "<Figure size 640x480 with 1 Axes>"
      ]
     },
     "metadata": {},
     "output_type": "display_data"
    }
   ],
   "source": [
    "plt.scatter(mps_list,energias)\n",
    "plt.xlabel('MPs count'),plt.ylabel('Energies'),plt.grid()\n",
    "plt.show()"
   ]
  },
  {
   "cell_type": "code",
   "execution_count": null,
   "metadata": {},
   "outputs": [],
   "source": []
  }
 ],
 "metadata": {
  "kernelspec": {
   "display_name": "Python 3.10.8 ('ilumpy')",
   "language": "python",
   "name": "python3"
  },
  "language_info": {
   "codemirror_mode": {
    "name": "ipython",
    "version": 3
   },
   "file_extension": ".py",
   "mimetype": "text/x-python",
   "name": "python",
   "nbconvert_exporter": "python",
   "pygments_lexer": "ipython3",
   "version": "3.10.8"
  },
  "orig_nbformat": 4,
  "vscode": {
   "interpreter": {
    "hash": "8529d5d23f5cbf0c063605dab2c59e7e62347018e6f532e027d68294076af1e8"
   }
  }
 },
 "nbformat": 4,
 "nbformat_minor": 2
}
