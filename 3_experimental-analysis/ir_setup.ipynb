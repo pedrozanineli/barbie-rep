{
 "cells": [
  {
   "cell_type": "markdown",
   "metadata": {},
   "source": [
    "#### Infrared Spectroscopy\n",
    "\n",
    "Determining how much protein is needed for a 100 nm particle coverage"
   ]
  },
  {
   "cell_type": "code",
   "execution_count": null,
   "metadata": {},
   "outputs": [],
   "source": [
    "# proteina 4 mg/ml\n",
    "# plastico 0.01 mg/L"
   ]
  },
  {
   "cell_type": "code",
   "execution_count": 1,
   "metadata": {},
   "outputs": [],
   "source": [
    "import numpy as np"
   ]
  },
  {
   "cell_type": "code",
   "execution_count": 2,
   "metadata": {},
   "outputs": [],
   "source": [
    "# Constantes\n",
    "diametro_nano = 100e-9  # 100 nm\n",
    "raio_nano = diametro_nano / 2\n",
    "densidade_pol = 1.05e3  # g/m^3 para poliestireno\n",
    "volume_solucao = 100e-6  # 20 microlitros\n",
    "concentracao_nano = 0.1  # mg/ml\n",
    "concentracao_prot = 7  # mg/ml\n",
    "diametro_prot = 10e-10  # 10 angstroms\n",
    "raio_prot = diametro_prot / 2"
   ]
  },
  {
   "cell_type": "code",
   "execution_count": 3,
   "metadata": {},
   "outputs": [],
   "source": [
    "# Passo 1: Calcular a área superficial de uma nanopartícula\n",
    "area_nano = 4 * np.pi * raio_nano**2\n",
    "\n",
    "# Passo 2: Calcular o volume e a massa de uma nanopartícula\n",
    "volume_nano = (4/3) * np.pi * raio_nano**3\n",
    "massa_nano = densidade_pol * volume_nano\n",
    "\n",
    "# Número de nanopartículas na solução\n",
    "massa_total_nano = concentracao_nano * volume_solucao\n",
    "num_nanoparticulas = (massa_total_nano * 1e-3) / massa_nano\n",
    "\n",
    "# Passo 3: Área total das nanopartículas na solução\n",
    "area_total_nano = num_nanoparticulas * area_nano\n",
    "\n",
    "# Passo 4: Calcular a área coberta por uma proteína\n",
    "area_prot = np.pi * raio_prot**2\n",
    "\n",
    "# Número de moléculas de proteína necessárias\n",
    "num_proteinas = area_total_nano / area_prot\n",
    "\n",
    "# Passo 5: Calcular o volume de solução proteica necessário\n",
    "# Massa de uma proteína\n",
    "massa_prot_por_mol = 1e5  # Assumindo uma massa molecular de 100 kDa\n",
    "massa_total_prot_necessaria = (num_proteinas / (6.022e23)) * massa_prot_por_mol\n",
    "volume_prot_necessario = (massa_total_prot_necessaria * 1e3) / concentracao_prot  # em litros\n",
    "\n",
    "volume_prot_necessario_ul = volume_prot_necessario * 1e6"
   ]
  },
  {
   "cell_type": "code",
   "execution_count": 7,
   "metadata": {},
   "outputs": [
    {
     "data": {
      "text/plain": [
       "40000.0"
      ]
     },
     "execution_count": 7,
     "metadata": {},
     "output_type": "execute_result"
    }
   ],
   "source": [
    "num_proteinas/num_nanoparticulas"
   ]
  },
  {
   "cell_type": "code",
   "execution_count": 6,
   "metadata": {},
   "outputs": [
    {
     "data": {
      "text/plain": [
       "727565454134378.8"
      ]
     },
     "execution_count": 6,
     "metadata": {},
     "output_type": "execute_result"
    }
   ],
   "source": []
  },
  {
   "cell_type": "code",
   "execution_count": 13,
   "metadata": {},
   "outputs": [
    {
     "name": "stdout",
     "output_type": "stream",
     "text": [
      "17.2597 uL\n"
     ]
    }
   ],
   "source": [
    "print(round(volume_prot_necessario_ul/1000,4),'uL')"
   ]
  },
  {
   "cell_type": "code",
   "execution_count": 17,
   "metadata": {},
   "outputs": [
    {
     "name": "stdout",
     "output_type": "stream",
     "text": [
      "Microplástico a 10 mg/mL\n",
      "Para 0.1 mg/ml\n",
      "99 mL água, 1 mL MP\n",
      "\n",
      "Proteína a 16 mg/ml\n",
      "Para 4 mg/ml, diluir em 4 partes\n",
      "1000/4: 250.0\n",
      "3*1000/4: 750.0\n",
      "Água: 750.0 mL, Proteína 250.0 mL\n",
      "\n",
      "Titulação\tProteína\n",
      "0\t\t0 uL\n",
      "1\t\t30 uL\n",
      "2\t\t60 uL\n",
      "3\t\t91 uL\n",
      "4\t\t121 uL\n",
      "5\t\t151 uL\n",
      "\n",
      "Total Proteína: 453.0672\n",
      "Total MP: 600\n"
     ]
    }
   ],
   "source": [
    "print('Microplástico a 10 mg/mL')\n",
    "print('Para 0.1 mg/ml')\n",
    "print('99 mL água, 1 mL MP')\n",
    "print()\n",
    "\n",
    "print('Proteína a 16 mg/ml')\n",
    "print('Para 4 mg/ml, diluir em 4 partes')\n",
    "\n",
    "print('1000/4:',1000/4)\n",
    "print('3*1000/4:',3*1000/4)\n",
    "print('Água:',3*1000/4,'mL, Proteína',1000/4,'mL')\n",
    "print()\n",
    "\n",
    "p=0\n",
    "mp=0\n",
    "\n",
    "vol_prot = round(volume_prot_necessario_ul/1000,4)\n",
    "titulacoes = 5\n",
    "\n",
    "# print('Titulação\\tProteína\\tMicroplástico')\n",
    "print('Titulação\\tProteína')\n",
    "\n",
    "for i in range(6):\n",
    "    if i == 0:\n",
    "        # print(f'{i}\\t\\t{round(i*(vol_prot / titulacoes))} uL\\t\\t0.5 mL')\n",
    "        print(f'{i}\\t\\t{round(i*(vol_prot / titulacoes))} uL')\n",
    "    else:\n",
    "        # print(f'{i}\\t\\t{round(i*(vol_prot / titulacoes))} uL\\t0.5 uL')\n",
    "        print(f'{i}\\t\\t{round(i*(vol_prot / titulacoes))} uL')\n",
    "    p+=i*(vol_prot / 5)\n",
    "    mp+= 100\n",
    "\n",
    "print()\n",
    "print('Total Proteína:',p)\n",
    "print('Total MP:',mp)"
   ]
  },
  {
   "cell_type": "code",
   "execution_count": null,
   "metadata": {},
   "outputs": [],
   "source": []
  }
 ],
 "metadata": {
  "kernelspec": {
   "display_name": "Python 3.10.8 ('ilumpy')",
   "language": "python",
   "name": "python3"
  },
  "language_info": {
   "codemirror_mode": {
    "name": "ipython",
    "version": 3
   },
   "file_extension": ".py",
   "mimetype": "text/x-python",
   "name": "python",
   "nbconvert_exporter": "python",
   "pygments_lexer": "ipython3",
   "version": "3.10.8"
  },
  "orig_nbformat": 4,
  "vscode": {
   "interpreter": {
    "hash": "8529d5d23f5cbf0c063605dab2c59e7e62347018e6f532e027d68294076af1e8"
   }
  }
 },
 "nbformat": 4,
 "nbformat_minor": 2
}
