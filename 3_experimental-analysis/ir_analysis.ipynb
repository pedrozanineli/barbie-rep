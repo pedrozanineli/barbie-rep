{
 "cells": [
  {
   "cell_type": "markdown",
   "metadata": {},
   "source": [
    "#### Infrared Spectroscopy\n",
    "\n",
    "Determining how much protein is needed for a 100 nm particle coverage"
   ]
  },
  {
   "cell_type": "markdown",
   "metadata": {},
   "source": [
    "Proteína inicial: 16 mg/ml\n",
    "\n",
    "Microplástico inicial: 5 mg/ml\n",
    "\n",
    "Proteína 1:1 em Hepes: 8 mg/ml\n",
    "\n",
    "Microplástico também 1:1 em água: 2.5 mg/ml"
   ]
  },
  {
   "cell_type": "code",
   "execution_count": 33,
   "metadata": {},
   "outputs": [],
   "source": [
    "import numpy as np"
   ]
  },
  {
   "cell_type": "code",
   "execution_count": 34,
   "metadata": {},
   "outputs": [],
   "source": [
    "# Constantes\n",
    "diametro_nano = 100e-9  # 100 nm\n",
    "raio_nano = diametro_nano / 2\n",
    "densidade_pol = 1.05e3  # g/m^3 para poliestireno\n",
    "volume_solucao = 20e-6  # 20 microlitros\n",
    "concentracao_nano = 2.5  # mg/ml\n",
    "concentracao_prot = 8  # mg/ml\n",
    "diametro_prot = 10e-10  # 10 angstroms\n",
    "raio_prot = diametro_prot / 2"
   ]
  },
  {
   "cell_type": "code",
   "execution_count": 36,
   "metadata": {},
   "outputs": [],
   "source": [
    "# Passo 1: Calcular a área superficial de uma nanopartícula\n",
    "area_nano = 4 * np.pi * raio_nano**2\n",
    "\n",
    "# Passo 2: Calcular o volume e a massa de uma nanopartícula\n",
    "volume_nano = (4/3) * np.pi * raio_nano**3\n",
    "massa_nano = densidade_pol * volume_nano\n",
    "\n",
    "# Número de nanopartículas na solução\n",
    "massa_total_nano = concentracao_nano * volume_solucao\n",
    "num_nanoparticulas = (massa_total_nano * 1e-3) / massa_nano\n",
    "\n",
    "# Passo 3: Área total das nanopartículas na solução\n",
    "area_total_nano = num_nanoparticulas * area_nano\n",
    "\n",
    "# Passo 4: Calcular a área coberta por uma proteína\n",
    "area_prot = np.pi * raio_prot**2\n",
    "\n",
    "# Número de moléculas de proteína necessárias\n",
    "num_proteinas = area_total_nano / area_prot\n",
    "\n",
    "# Passo 5: Calcular o volume de solução proteica necessário\n",
    "# Massa de uma proteína\n",
    "massa_prot_por_mol = 1e5  # Assumindo uma massa molecular de 100 kDa\n",
    "massa_total_prot_necessaria = (num_proteinas / (6.022e23)) * massa_prot_por_mol\n",
    "volume_prot_necessario = (massa_total_prot_necessaria * 1e3) / concentracao_prot  # em litros\n",
    "\n",
    "volume_prot_necessario_ul = volume_prot_necessario * 1e6"
   ]
  },
  {
   "cell_type": "code",
   "execution_count": 38,
   "metadata": {},
   "outputs": [
    {
     "name": "stdout",
     "output_type": "stream",
     "text": [
      "75.5112 uL\n"
     ]
    }
   ],
   "source": [
    "print(round(volume_prot_necessario_ul/1000,4),'uL')"
   ]
  },
  {
   "cell_type": "markdown",
   "metadata": {},
   "source": [
    "##### IR PS"
   ]
  },
  {
   "cell_type": "code",
   "execution_count": 5,
   "metadata": {},
   "outputs": [],
   "source": [
    "import bsp_tool\n",
    "import pandas as pd\n",
    "import matplotlib.pyplot as plt"
   ]
  },
  {
   "cell_type": "code",
   "execution_count": 7,
   "metadata": {},
   "outputs": [
    {
     "ename": "NotImplementedError",
     "evalue": "Unknown file_magic: b'\\xd0\\xcf\\x11\\xe0'",
     "output_type": "error",
     "traceback": [
      "\u001b[1;31m---------------------------------------------------------------------------\u001b[0m",
      "\u001b[1;31mNotImplementedError\u001b[0m                       Traceback (most recent call last)",
      "Cell \u001b[1;32mIn [7], line 1\u001b[0m\n\u001b[1;32m----> 1\u001b[0m bsp_tool\u001b[39m.\u001b[39;49mload_bsp(\u001b[39m'\u001b[39;49m\u001b[39mIR_data/PS-multi-spectral.bsp\u001b[39;49m\u001b[39m'\u001b[39;49m)\n",
      "File \u001b[1;32mc:\\venv\\ilumpy\\lib\\site-packages\\bsp_tool\\__init__.py:110\u001b[0m, in \u001b[0;36mload_bsp\u001b[1;34m(filename, branch_script)\u001b[0m\n\u001b[0;32m    107\u001b[0m         file_magic \u001b[39m=\u001b[39m \u001b[39mNone\u001b[39;00m\n\u001b[0;32m    108\u001b[0m     \u001b[39melse\u001b[39;00m:\n\u001b[0;32m    109\u001b[0m         \u001b[39m# TODO: check for encrypted Tactical Intervention .bsp\u001b[39;00m\n\u001b[1;32m--> 110\u001b[0m         \u001b[39mraise\u001b[39;00m \u001b[39mNotImplementedError\u001b[39;00m(\u001b[39mf\u001b[39m\u001b[39m\"\u001b[39m\u001b[39mUnknown file_magic: \u001b[39m\u001b[39m{\u001b[39;00mfile_magic\u001b[39m}\u001b[39;00m\u001b[39m\"\u001b[39m)\n\u001b[0;32m    111\u001b[0m \u001b[39melse\u001b[39;00m:\n\u001b[0;32m    112\u001b[0m     \u001b[39mif\u001b[39;00m file_magic \u001b[39m==\u001b[39m \u001b[39mb\u001b[39m\u001b[39m\"\u001b[39m\u001b[39mIBSP\u001b[39m\u001b[39m\"\u001b[39m \u001b[39mand\u001b[39;00m version \u001b[39min\u001b[39;00m InfinityWard_versions:  \u001b[39m# early CoD\u001b[39;00m\n",
      "\u001b[1;31mNotImplementedError\u001b[0m: Unknown file_magic: b'\\xd0\\xcf\\x11\\xe0'"
     ]
    }
   ],
   "source": [
    "bsp_tool.load_bsp('IR_data/PS-multi-spectral.bsp')"
   ]
  },
  {
   "cell_type": "code",
   "execution_count": null,
   "metadata": {},
   "outputs": [],
   "source": []
  }
 ],
 "metadata": {
  "kernelspec": {
   "display_name": "Python 3.10.8 ('ilumpy')",
   "language": "python",
   "name": "python3"
  },
  "language_info": {
   "codemirror_mode": {
    "name": "ipython",
    "version": 3
   },
   "file_extension": ".py",
   "mimetype": "text/x-python",
   "name": "python",
   "nbconvert_exporter": "python",
   "pygments_lexer": "ipython3",
   "version": "3.10.8"
  },
  "orig_nbformat": 4,
  "vscode": {
   "interpreter": {
    "hash": "8529d5d23f5cbf0c063605dab2c59e7e62347018e6f532e027d68294076af1e8"
   }
  }
 },
 "nbformat": 4,
 "nbformat_minor": 2
}
