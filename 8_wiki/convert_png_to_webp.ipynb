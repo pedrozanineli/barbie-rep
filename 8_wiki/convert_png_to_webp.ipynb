{
 "cells": [
  {
   "cell_type": "code",
   "execution_count": 3,
   "metadata": {},
   "outputs": [
    {
     "name": "stdout",
     "output_type": "stream",
     "text": [
      "Convertido: ./a\\equation-model-18.png -> ./a\\equation-model-18.webp\n",
      "Convertido: ./a\\equation-model-22.png -> ./a\\equation-model-22.webp\n"
     ]
    }
   ],
   "source": [
    "import os\n",
    "from PIL import Image\n",
    "\n",
    "# Função para converter PNG para WEBP\n",
    "def convert_png_to_webp_in_folder(folder_path):\n",
    "    # Percorrer todos os arquivos na pasta\n",
    "    for file_name in os.listdir(folder_path):\n",
    "        if file_name.endswith(\".png\"):\n",
    "            png_file = os.path.join(folder_path, file_name)\n",
    "            webp_file = os.path.join(folder_path, file_name.replace(\".png\", \".webp\"))\n",
    "            \n",
    "            # Abrir o arquivo PNG e salvar como WEBP\n",
    "            img = Image.open(png_file)\n",
    "            img.save(webp_file, format=\"WEBP\")\n",
    "            print(f\"Convertido: {png_file} -> {webp_file}\")\n",
    "\n",
    "# Exemplo de uso\n",
    "folder_path = \"./a\"  # Pasta onde estão os arquivos PNG\n",
    "convert_png_to_webp_in_folder(folder_path)"
   ]
  }
 ],
 "metadata": {
  "kernelspec": {
   "display_name": "Python 3.10.8 ('ilumpy')",
   "language": "python",
   "name": "python3"
  },
  "language_info": {
   "codemirror_mode": {
    "name": "ipython",
    "version": 3
   },
   "file_extension": ".py",
   "mimetype": "text/x-python",
   "name": "python",
   "nbconvert_exporter": "python",
   "pygments_lexer": "ipython3",
   "version": "3.10.8"
  },
  "vscode": {
   "interpreter": {
    "hash": "8529d5d23f5cbf0c063605dab2c59e7e62347018e6f532e027d68294076af1e8"
   }
  }
 },
 "nbformat": 4,
 "nbformat_minor": 2
}
