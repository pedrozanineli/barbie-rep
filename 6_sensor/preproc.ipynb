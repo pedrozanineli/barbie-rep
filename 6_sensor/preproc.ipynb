{
 "cells": [
  {
   "cell_type": "markdown",
   "metadata": {},
   "source": [
    "#### Pre-processing"
   ]
  },
  {
   "cell_type": "code",
   "execution_count": 1,
   "metadata": {},
   "outputs": [],
   "source": [
    "import os\n",
    "import pandas as pd"
   ]
  },
  {
   "cell_type": "code",
   "execution_count": 19,
   "metadata": {},
   "outputs": [
    {
     "data": {
      "text/plain": [
       "'initial_measures'"
      ]
     },
     "execution_count": 19,
     "metadata": {},
     "output_type": "execute_result"
    }
   ],
   "source": [
    "files = os.listdir('data')\n",
    "files.pop(0)\n",
    "# files.pop(1)"
   ]
  },
  {
   "cell_type": "code",
   "execution_count": 20,
   "metadata": {},
   "outputs": [],
   "source": [
    "dataset = {}\n",
    "k = 0\n",
    "\n",
    "for file in files:\n",
    "\n",
    "    xl = pd.ExcelFile(f'data/{file}')\n",
    "\n",
    "    spreadsheets = xl.sheet_names\n",
    "\n",
    "    for spreadsheet in spreadsheets:\n",
    "\n",
    "        if spreadsheet[:2] == 'PS':\n",
    "            conc = spreadsheet[5:]\n",
    "        # else:\n",
    "            # conc = spreadsheet[8:]\n",
    "            # print(conc)\n",
    "\n",
    "        df = pd.read_excel(f'data/{file}',sheet_name=spreadsheet,header=1)\n",
    "        dataset.update({k:[list(df['Z / Ohm']),list(df['Z\\' / Ohm']),conc]})\n",
    "\n",
    "        k+=1"
   ]
  },
  {
   "cell_type": "code",
   "execution_count": 21,
   "metadata": {},
   "outputs": [],
   "source": [
    "df_set = {}\n",
    "\n",
    "for i in range(len(list(dataset.values())[0][0])):\n",
    "    df_set[f\"Z{i+1}\"] = []\n",
    "\n",
    "for i in range(len(list(dataset.values())[0][0])):\n",
    "    df_set[f\"Zimag{i+1}\"] = []\n",
    "\n",
    "df_set['Concentration'] = []"
   ]
  },
  {
   "cell_type": "code",
   "execution_count": 22,
   "metadata": {},
   "outputs": [],
   "source": [
    "for k,v in dataset.items():\n",
    "    \n",
    "    z_real,z_imaginario,conc = v\n",
    "\n",
    "    for i,z_val in enumerate(z_real):\n",
    "        df_set[f\"Z{i+1}\"].append(z_val)\n",
    "    \n",
    "    for i,z_val in enumerate(z_imaginario):\n",
    "        df_set[f\"Zimag{i+1}\"].append(z_val)\n",
    "    \n",
    "    # for i,c in enumerate(conc):\n",
    "        # print(c)\n",
    "    df_set[f\"Concentration\"].append(conc[:-4])"
   ]
  },
  {
   "cell_type": "code",
   "execution_count": 24,
   "metadata": {},
   "outputs": [],
   "source": [
    "df = pd.DataFrame(df_set)\n",
    "df.to_csv('data/full_data.csv',index=False)"
   ]
  }
 ],
 "metadata": {
  "kernelspec": {
   "display_name": "Python 3 (ipykernel)",
   "language": "python",
   "name": "python3"
  },
  "language_info": {
   "codemirror_mode": {
    "name": "ipython",
    "version": 3
   },
   "file_extension": ".py",
   "mimetype": "text/x-python",
   "name": "python",
   "nbconvert_exporter": "python",
   "pygments_lexer": "ipython3",
   "version": "3.10.8"
  },
  "vscode": {
   "interpreter": {
    "hash": "8529d5d23f5cbf0c063605dab2c59e7e62347018e6f532e027d68294076af1e8"
   }
  }
 },
 "nbformat": 4,
 "nbformat_minor": 2
}
