{
 "cells": [
  {
   "cell_type": "code",
   "execution_count": 1,
   "metadata": {},
   "outputs": [
    {
     "name": "stdout",
     "output_type": "stream",
     "text": [
      "B1-PS\n",
      "0.454 eV - Coulomb\n",
      "-6.7572 eV - LJ\n",
      "\n",
      "CBM-Spid\n",
      "-40.6812 eV - Coulomb\n",
      "-11.6706 eV - LJ\n",
      "\n",
      "Spid-PS\n",
      "4.9042 eV - Coulomb\n",
      "-0.8546 eV - LJ\n",
      "\n",
      "B1-B1\n",
      "0.8265 ev - Coulomb\n",
      "3.9726 ev - LJ\n",
      "\n",
      "Spid-Spid\n",
      "18.448 ev - Coulomb\n",
      "78.201 ev - LJ\n",
      "\n",
      "PS-PS\n"
     ]
    }
   ],
   "source": [
    "# Extração da média de cargas: Coulomb e LJ\n",
    "# B1 - PS\n",
    "\n",
    "avogrado = 6.02e22\n",
    "\n",
    "print('B1-PS')\n",
    "print(round(2.7331632e+22/avogrado,4),'eV - Coulomb')\n",
    "print(round(-4.0678101e23/avogrado,4),'eV - LJ')\n",
    "\n",
    "print('\\nCBM-Spid')\n",
    "print(round(-2.449006e+24/avogrado,4),'eV - Coulomb')\n",
    "print(round(-7.0256926e+23/avogrado,4),'eV - LJ')\n",
    "\n",
    "print('\\nSpid-PS')\n",
    "print(round(2.95235251e+23/avogrado,4),'eV - Coulomb')\n",
    "print(round(-5.1449448e+22/avogrado,4),'eV - LJ')\n",
    "\n",
    "print('\\nB1-B1')\n",
    "print(round(4.9752819e+22/avogrado,4),'ev - Coulomb')\n",
    "print(round(2.3915154e+23/avogrado,4),'ev - LJ')\n",
    "\n",
    "print('\\nSpid-Spid')\n",
    "print(round(1.1105705e+24/avogrado,4),'ev - Coulomb')\n",
    "print(round(4.70770211e+24/avogrado,4),'ev - LJ')\n",
    "\n",
    "print('\\nPS-PS')\n",
    "# print(round(\n",
    "# print(round("
   ]
  }
 ],
 "metadata": {
  "kernelspec": {
   "display_name": "Python 3.10.8 ('ilumpy')",
   "language": "python",
   "name": "python3"
  },
  "language_info": {
   "codemirror_mode": {
    "name": "ipython",
    "version": 3
   },
   "file_extension": ".py",
   "mimetype": "text/x-python",
   "name": "python",
   "nbconvert_exporter": "python",
   "pygments_lexer": "ipython3",
   "version": "3.10.8"
  },
  "orig_nbformat": 4,
  "vscode": {
   "interpreter": {
    "hash": "8529d5d23f5cbf0c063605dab2c59e7e62347018e6f532e027d68294076af1e8"
   }
  }
 },
 "nbformat": 4,
 "nbformat_minor": 2
}
