{
 "cells": [
  {
   "cell_type": "code",
   "execution_count": 1,
   "metadata": {},
   "outputs": [],
   "source": [
    "import pandas as pd\n",
    "import matplotlib.pyplot as plt"
   ]
  },
  {
   "cell_type": "code",
   "execution_count": 2,
   "metadata": {},
   "outputs": [],
   "source": [
    "bacbm2 = pd.read_csv('data/toxicity/bacbm2_tepitool_complete_results_2024-10-16_1729085148.csv')\n",
    "barbie1 = pd.read_csv('data/toxicity/barbie1_tepitool_complete_results_2024-10-16_1729085148.csv')"
   ]
  },
  {
   "cell_type": "code",
   "execution_count": 32,
   "metadata": {},
   "outputs": [
    {
     "data": {
      "text/plain": [
       "Index(['allele', 'seq_num', 'start', 'end', 'length', 'peptide', 'ic50',\n",
       "       'percentile_rank'],\n",
       "      dtype='object')"
      ]
     },
     "execution_count": 32,
     "metadata": {},
     "output_type": "execute_result"
    }
   ],
   "source": [
    "bacbm2.columns"
   ]
  },
  {
   "cell_type": "code",
   "execution_count": 33,
   "metadata": {},
   "outputs": [
    {
     "data": {
      "text/html": [
       "<div>\n",
       "<style scoped>\n",
       "    .dataframe tbody tr th:only-of-type {\n",
       "        vertical-align: middle;\n",
       "    }\n",
       "\n",
       "    .dataframe tbody tr th {\n",
       "        vertical-align: top;\n",
       "    }\n",
       "\n",
       "    .dataframe thead th {\n",
       "        text-align: right;\n",
       "    }\n",
       "</style>\n",
       "<table border=\"1\" class=\"dataframe\">\n",
       "  <thead>\n",
       "    <tr style=\"text-align: right;\">\n",
       "      <th></th>\n",
       "      <th>allele</th>\n",
       "      <th>seq_num</th>\n",
       "      <th>start</th>\n",
       "      <th>end</th>\n",
       "      <th>length</th>\n",
       "      <th>peptide</th>\n",
       "      <th>ic50</th>\n",
       "      <th>percentile_rank</th>\n",
       "    </tr>\n",
       "  </thead>\n",
       "  <tbody>\n",
       "    <tr>\n",
       "      <th>0</th>\n",
       "      <td>HLA-B*58:01</td>\n",
       "      <td>1</td>\n",
       "      <td>1</td>\n",
       "      <td>9</td>\n",
       "      <td>9</td>\n",
       "      <td>ATFSVTSNW</td>\n",
       "      <td>6.67</td>\n",
       "      <td>0.03</td>\n",
       "    </tr>\n",
       "    <tr>\n",
       "      <th>1</th>\n",
       "      <td>HLA-B*57:01</td>\n",
       "      <td>1</td>\n",
       "      <td>1</td>\n",
       "      <td>9</td>\n",
       "      <td>9</td>\n",
       "      <td>ATFSVTSNW</td>\n",
       "      <td>11.28</td>\n",
       "      <td>0.03</td>\n",
       "    </tr>\n",
       "    <tr>\n",
       "      <th>2</th>\n",
       "      <td>HLA-A*32:01</td>\n",
       "      <td>1</td>\n",
       "      <td>1</td>\n",
       "      <td>9</td>\n",
       "      <td>9</td>\n",
       "      <td>ATFSVTSNW</td>\n",
       "      <td>18.65</td>\n",
       "      <td>0.03</td>\n",
       "    </tr>\n",
       "    <tr>\n",
       "      <th>3</th>\n",
       "      <td>HLA-B*40:01</td>\n",
       "      <td>1</td>\n",
       "      <td>32</td>\n",
       "      <td>40</td>\n",
       "      <td>9</td>\n",
       "      <td>LEFDYNGNL</td>\n",
       "      <td>26.33</td>\n",
       "      <td>0.05</td>\n",
       "    </tr>\n",
       "    <tr>\n",
       "      <th>4</th>\n",
       "      <td>HLA-A*30:02</td>\n",
       "      <td>1</td>\n",
       "      <td>5</td>\n",
       "      <td>13</td>\n",
       "      <td>9</td>\n",
       "      <td>VTSNWGSGY</td>\n",
       "      <td>27.46</td>\n",
       "      <td>0.03</td>\n",
       "    </tr>\n",
       "    <tr>\n",
       "      <th>...</th>\n",
       "      <td>...</td>\n",
       "      <td>...</td>\n",
       "      <td>...</td>\n",
       "      <td>...</td>\n",
       "      <td>...</td>\n",
       "      <td>...</td>\n",
       "      <td>...</td>\n",
       "      <td>...</td>\n",
       "    </tr>\n",
       "    <tr>\n",
       "      <th>2317</th>\n",
       "      <td>HLA-A*26:01</td>\n",
       "      <td>1</td>\n",
       "      <td>68</td>\n",
       "      <td>76</td>\n",
       "      <td>9</td>\n",
       "      <td>PPGGSITIG</td>\n",
       "      <td>47872.88</td>\n",
       "      <td>100.00</td>\n",
       "    </tr>\n",
       "    <tr>\n",
       "      <th>2318</th>\n",
       "      <td>HLA-B*51:01</td>\n",
       "      <td>1</td>\n",
       "      <td>31</td>\n",
       "      <td>39</td>\n",
       "      <td>9</td>\n",
       "      <td>KLEFDYNGN</td>\n",
       "      <td>47912.78</td>\n",
       "      <td>100.00</td>\n",
       "    </tr>\n",
       "    <tr>\n",
       "      <th>2319</th>\n",
       "      <td>HLA-B*40:01</td>\n",
       "      <td>1</td>\n",
       "      <td>69</td>\n",
       "      <td>77</td>\n",
       "      <td>9</td>\n",
       "      <td>PGGSITIGG</td>\n",
       "      <td>47933.52</td>\n",
       "      <td>100.00</td>\n",
       "    </tr>\n",
       "    <tr>\n",
       "      <th>2320</th>\n",
       "      <td>HLA-A*33:01</td>\n",
       "      <td>1</td>\n",
       "      <td>68</td>\n",
       "      <td>76</td>\n",
       "      <td>9</td>\n",
       "      <td>PPGGSITIG</td>\n",
       "      <td>48109.67</td>\n",
       "      <td>100.00</td>\n",
       "    </tr>\n",
       "    <tr>\n",
       "      <th>2321</th>\n",
       "      <td>HLA-A*26:01</td>\n",
       "      <td>1</td>\n",
       "      <td>69</td>\n",
       "      <td>77</td>\n",
       "      <td>9</td>\n",
       "      <td>PGGSITIGG</td>\n",
       "      <td>48212.32</td>\n",
       "      <td>100.00</td>\n",
       "    </tr>\n",
       "  </tbody>\n",
       "</table>\n",
       "<p>2322 rows × 8 columns</p>\n",
       "</div>"
      ],
      "text/plain": [
       "           allele  seq_num  start  end  length    peptide      ic50  \\\n",
       "0     HLA-B*58:01        1      1    9       9  ATFSVTSNW      6.67   \n",
       "1     HLA-B*57:01        1      1    9       9  ATFSVTSNW     11.28   \n",
       "2     HLA-A*32:01        1      1    9       9  ATFSVTSNW     18.65   \n",
       "3     HLA-B*40:01        1     32   40       9  LEFDYNGNL     26.33   \n",
       "4     HLA-A*30:02        1      5   13       9  VTSNWGSGY     27.46   \n",
       "...           ...      ...    ...  ...     ...        ...       ...   \n",
       "2317  HLA-A*26:01        1     68   76       9  PPGGSITIG  47872.88   \n",
       "2318  HLA-B*51:01        1     31   39       9  KLEFDYNGN  47912.78   \n",
       "2319  HLA-B*40:01        1     69   77       9  PGGSITIGG  47933.52   \n",
       "2320  HLA-A*33:01        1     68   76       9  PPGGSITIG  48109.67   \n",
       "2321  HLA-A*26:01        1     69   77       9  PGGSITIGG  48212.32   \n",
       "\n",
       "      percentile_rank  \n",
       "0                0.03  \n",
       "1                0.03  \n",
       "2                0.03  \n",
       "3                0.05  \n",
       "4                0.03  \n",
       "...               ...  \n",
       "2317           100.00  \n",
       "2318           100.00  \n",
       "2319           100.00  \n",
       "2320           100.00  \n",
       "2321           100.00  \n",
       "\n",
       "[2322 rows x 8 columns]"
      ]
     },
     "execution_count": 33,
     "metadata": {},
     "output_type": "execute_result"
    }
   ],
   "source": [
    "bacbm2"
   ]
  },
  {
   "cell_type": "code",
   "execution_count": 38,
   "metadata": {},
   "outputs": [
    {
     "data": {
      "image/png": "[encoded data removed]",
      "text/plain": [
       "<Figure size 600x400 with 1 Axes>"
      ]
     },
     "metadata": {},
     "output_type": "display_data"
    }
   ],
   "source": [
    "all_data = [bacbm2['ic50'],barbie1['ic50']]\n",
    "\n",
    "fig, axs = plt.subplots(nrows=1, ncols=1, figsize=(6, 4))\n",
    "\n",
    "axs.boxplot(all_data)\n",
    "\n",
    "axs.yaxis.grid(True)\n",
    "axs.set_xticks([y + 1 for y in range(len(all_data))],\n",
    "                labels=['BaCBM2', 'BARBIE1'])\n",
    "axs.set_xlabel('Protein')\n",
    "axs.set_ylabel('IC50 Result (nM)')\n",
    "\n",
    "plt.tight_layout()\n",
    "plt.savefig('results/ic50.png',dpi=500)\n",
    "\n",
    "plt.show()"
   ]
  },
  {
   "cell_type": "code",
   "execution_count": 35,
   "metadata": {},
   "outputs": [
    {
     "data": {
      "image/png": "[encoded data removed]",
      "text/plain": [
       "<Figure size 600x400 with 1 Axes>"
      ]
     },
     "metadata": {},
     "output_type": "display_data"
    }
   ],
   "source": [
    "all_data = [bacbm2['percentile_rank'],barbie1['percentile_rank']]\n",
    "\n",
    "fig, axs = plt.subplots(nrows=1, ncols=1, figsize=(6, 4))\n",
    "\n",
    "axs.boxplot(all_data)\n",
    "\n",
    "axs.yaxis.grid(True)\n",
    "axs.set_xticks([y + 1 for y in range(len(all_data))],\n",
    "                labels=['BaCBM2', 'BARBIE1'])\n",
    "axs.set_xlabel('Protein')\n",
    "axs.set_ylabel('Percentile Rank')\n",
    "\n",
    "plt.show()"
   ]
  }
 ],
 "metadata": {
  "kernelspec": {
   "display_name": "Python 3.10.8 ('ilumpy')",
   "language": "python",
   "name": "python3"
  },
  "language_info": {
   "codemirror_mode": {
    "name": "ipython",
    "version": 3
   },
   "file_extension": ".py",
   "mimetype": "text/x-python",
   "name": "python",
   "nbconvert_exporter": "python",
   "pygments_lexer": "ipython3",
   "version": "3.10.8"
  },
  "orig_nbformat": 4,
  "vscode": {
   "interpreter": {
    "hash": "8529d5d23f5cbf0c063605dab2c59e7e62347018e6f532e027d68294076af1e8"
   }
  }
 },
 "nbformat": 4,
 "nbformat_minor": 2
}
