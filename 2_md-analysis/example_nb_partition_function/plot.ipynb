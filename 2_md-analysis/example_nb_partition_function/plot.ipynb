{
 "cells": [
  {
   "cell_type": "code",
   "execution_count": 1,
   "metadata": {},
   "outputs": [],
   "source": [
    "import numpy as np\n",
    "import pandas as pd"
   ]
  },
  {
   "cell_type": "code",
   "execution_count": 2,
   "metadata": {},
   "outputs": [],
   "source": [
    "df=pd.read_csv(\"delta_complex.csv\", sep=\",\", header=None, skiprows=3,\n",
    "               names=[\"Frame #\", \"BOND\", \"ANGLE\", \"DIHED\", \"UB\", \"IMP\", \"CMAP\",\n",
    "                      \"VDWAALS\", \"EEL\", \"1-4 VDW\", \"1-4 EEL\", \"EGB\", \"ESURF\",\n",
    "                      \"GGAS\", \"GSOLV\", \"TOTAL\"])\n"
   ]
  },
  {
   "cell_type": "code",
   "execution_count": 3,
   "metadata": {},
   "outputs": [
    {
     "data": {
      "text/html": [
       "<div>\n",
       "<style scoped>\n",
       "    .dataframe tbody tr th:only-of-type {\n",
       "        vertical-align: middle;\n",
       "    }\n",
       "\n",
       "    .dataframe tbody tr th {\n",
       "        vertical-align: top;\n",
       "    }\n",
       "\n",
       "    .dataframe thead th {\n",
       "        text-align: right;\n",
       "    }\n",
       "</style>\n",
       "<table border=\"1\" class=\"dataframe\">\n",
       "  <thead>\n",
       "    <tr style=\"text-align: right;\">\n",
       "      <th></th>\n",
       "      <th>Frame #</th>\n",
       "      <th>BOND</th>\n",
       "      <th>ANGLE</th>\n",
       "      <th>DIHED</th>\n",
       "      <th>UB</th>\n",
       "      <th>IMP</th>\n",
       "      <th>CMAP</th>\n",
       "      <th>VDWAALS</th>\n",
       "      <th>EEL</th>\n",
       "      <th>1-4 VDW</th>\n",
       "      <th>1-4 EEL</th>\n",
       "      <th>EGB</th>\n",
       "      <th>ESURF</th>\n",
       "      <th>GGAS</th>\n",
       "      <th>GSOLV</th>\n",
       "      <th>TOTAL</th>\n",
       "    </tr>\n",
       "  </thead>\n",
       "  <tbody>\n",
       "    <tr>\n",
       "      <th>0</th>\n",
       "      <td>2</td>\n",
       "      <td>0.0</td>\n",
       "      <td>-0.0</td>\n",
       "      <td>-0.0</td>\n",
       "      <td>0.0</td>\n",
       "      <td>0.0</td>\n",
       "      <td>0.0</td>\n",
       "      <td>-0.03</td>\n",
       "      <td>0.00</td>\n",
       "      <td>0.0</td>\n",
       "      <td>0.0</td>\n",
       "      <td>0.03</td>\n",
       "      <td>-0.00</td>\n",
       "      <td>-0.02</td>\n",
       "      <td>0.03</td>\n",
       "      <td>0.01</td>\n",
       "    </tr>\n",
       "    <tr>\n",
       "      <th>1</th>\n",
       "      <td>3</td>\n",
       "      <td>-0.0</td>\n",
       "      <td>0.0</td>\n",
       "      <td>-0.0</td>\n",
       "      <td>0.0</td>\n",
       "      <td>0.0</td>\n",
       "      <td>0.0</td>\n",
       "      <td>-0.01</td>\n",
       "      <td>0.03</td>\n",
       "      <td>-0.0</td>\n",
       "      <td>-0.0</td>\n",
       "      <td>-0.03</td>\n",
       "      <td>0.00</td>\n",
       "      <td>0.02</td>\n",
       "      <td>-0.03</td>\n",
       "      <td>-0.01</td>\n",
       "    </tr>\n",
       "    <tr>\n",
       "      <th>2</th>\n",
       "      <td>4</td>\n",
       "      <td>-0.0</td>\n",
       "      <td>-0.0</td>\n",
       "      <td>0.0</td>\n",
       "      <td>0.0</td>\n",
       "      <td>0.0</td>\n",
       "      <td>0.0</td>\n",
       "      <td>-0.01</td>\n",
       "      <td>-0.17</td>\n",
       "      <td>-0.0</td>\n",
       "      <td>-0.0</td>\n",
       "      <td>0.17</td>\n",
       "      <td>-0.00</td>\n",
       "      <td>-0.18</td>\n",
       "      <td>0.17</td>\n",
       "      <td>-0.01</td>\n",
       "    </tr>\n",
       "    <tr>\n",
       "      <th>3</th>\n",
       "      <td>5</td>\n",
       "      <td>0.0</td>\n",
       "      <td>-0.0</td>\n",
       "      <td>-0.0</td>\n",
       "      <td>0.0</td>\n",
       "      <td>0.0</td>\n",
       "      <td>0.0</td>\n",
       "      <td>-0.02</td>\n",
       "      <td>-0.09</td>\n",
       "      <td>0.0</td>\n",
       "      <td>-0.0</td>\n",
       "      <td>0.11</td>\n",
       "      <td>-0.00</td>\n",
       "      <td>-0.11</td>\n",
       "      <td>0.11</td>\n",
       "      <td>-0.00</td>\n",
       "    </tr>\n",
       "    <tr>\n",
       "      <th>4</th>\n",
       "      <td>6</td>\n",
       "      <td>-0.0</td>\n",
       "      <td>0.0</td>\n",
       "      <td>0.0</td>\n",
       "      <td>0.0</td>\n",
       "      <td>0.0</td>\n",
       "      <td>0.0</td>\n",
       "      <td>-0.01</td>\n",
       "      <td>-0.22</td>\n",
       "      <td>0.0</td>\n",
       "      <td>-0.0</td>\n",
       "      <td>0.22</td>\n",
       "      <td>-0.00</td>\n",
       "      <td>-0.23</td>\n",
       "      <td>0.22</td>\n",
       "      <td>-0.01</td>\n",
       "    </tr>\n",
       "    <tr>\n",
       "      <th>...</th>\n",
       "      <td>...</td>\n",
       "      <td>...</td>\n",
       "      <td>...</td>\n",
       "      <td>...</td>\n",
       "      <td>...</td>\n",
       "      <td>...</td>\n",
       "      <td>...</td>\n",
       "      <td>...</td>\n",
       "      <td>...</td>\n",
       "      <td>...</td>\n",
       "      <td>...</td>\n",
       "      <td>...</td>\n",
       "      <td>...</td>\n",
       "      <td>...</td>\n",
       "      <td>...</td>\n",
       "      <td>...</td>\n",
       "    </tr>\n",
       "    <tr>\n",
       "      <th>675</th>\n",
       "      <td>677</td>\n",
       "      <td>0.0</td>\n",
       "      <td>0.0</td>\n",
       "      <td>0.0</td>\n",
       "      <td>-0.0</td>\n",
       "      <td>0.0</td>\n",
       "      <td>0.0</td>\n",
       "      <td>-38.63</td>\n",
       "      <td>-3.76</td>\n",
       "      <td>0.0</td>\n",
       "      <td>0.0</td>\n",
       "      <td>25.49</td>\n",
       "      <td>-4.76</td>\n",
       "      <td>-42.39</td>\n",
       "      <td>20.72</td>\n",
       "      <td>-21.67</td>\n",
       "    </tr>\n",
       "    <tr>\n",
       "      <th>676</th>\n",
       "      <td>678</td>\n",
       "      <td>0.0</td>\n",
       "      <td>-0.0</td>\n",
       "      <td>0.0</td>\n",
       "      <td>-0.0</td>\n",
       "      <td>0.0</td>\n",
       "      <td>0.0</td>\n",
       "      <td>-42.26</td>\n",
       "      <td>-5.21</td>\n",
       "      <td>-0.0</td>\n",
       "      <td>0.0</td>\n",
       "      <td>27.91</td>\n",
       "      <td>-5.43</td>\n",
       "      <td>-47.47</td>\n",
       "      <td>22.48</td>\n",
       "      <td>-24.99</td>\n",
       "    </tr>\n",
       "    <tr>\n",
       "      <th>677</th>\n",
       "      <td>679</td>\n",
       "      <td>-0.0</td>\n",
       "      <td>-0.0</td>\n",
       "      <td>-0.0</td>\n",
       "      <td>-0.0</td>\n",
       "      <td>0.0</td>\n",
       "      <td>0.0</td>\n",
       "      <td>-40.74</td>\n",
       "      <td>-2.62</td>\n",
       "      <td>0.0</td>\n",
       "      <td>-0.0</td>\n",
       "      <td>25.06</td>\n",
       "      <td>-4.97</td>\n",
       "      <td>-43.36</td>\n",
       "      <td>20.09</td>\n",
       "      <td>-23.28</td>\n",
       "    </tr>\n",
       "    <tr>\n",
       "      <th>678</th>\n",
       "      <td>680</td>\n",
       "      <td>-0.0</td>\n",
       "      <td>0.0</td>\n",
       "      <td>0.0</td>\n",
       "      <td>0.0</td>\n",
       "      <td>0.0</td>\n",
       "      <td>0.0</td>\n",
       "      <td>-43.33</td>\n",
       "      <td>-5.75</td>\n",
       "      <td>-0.0</td>\n",
       "      <td>-0.0</td>\n",
       "      <td>28.71</td>\n",
       "      <td>-5.05</td>\n",
       "      <td>-49.08</td>\n",
       "      <td>23.66</td>\n",
       "      <td>-25.41</td>\n",
       "    </tr>\n",
       "    <tr>\n",
       "      <th>679</th>\n",
       "      <td>681</td>\n",
       "      <td>-0.0</td>\n",
       "      <td>0.0</td>\n",
       "      <td>0.0</td>\n",
       "      <td>-0.0</td>\n",
       "      <td>0.0</td>\n",
       "      <td>0.0</td>\n",
       "      <td>-41.20</td>\n",
       "      <td>-5.78</td>\n",
       "      <td>-0.0</td>\n",
       "      <td>-0.0</td>\n",
       "      <td>27.29</td>\n",
       "      <td>-4.95</td>\n",
       "      <td>-46.98</td>\n",
       "      <td>22.34</td>\n",
       "      <td>-24.64</td>\n",
       "    </tr>\n",
       "  </tbody>\n",
       "</table>\n",
       "<p>680 rows × 16 columns</p>\n",
       "</div>"
      ],
      "text/plain": [
       "     Frame #  BOND  ANGLE  DIHED   UB  IMP  CMAP  VDWAALS   EEL  1-4 VDW  \\\n",
       "0          2   0.0   -0.0   -0.0  0.0  0.0   0.0    -0.03  0.00      0.0   \n",
       "1          3  -0.0    0.0   -0.0  0.0  0.0   0.0    -0.01  0.03     -0.0   \n",
       "2          4  -0.0   -0.0    0.0  0.0  0.0   0.0    -0.01 -0.17     -0.0   \n",
       "3          5   0.0   -0.0   -0.0  0.0  0.0   0.0    -0.02 -0.09      0.0   \n",
       "4          6  -0.0    0.0    0.0  0.0  0.0   0.0    -0.01 -0.22      0.0   \n",
       "..       ...   ...    ...    ...  ...  ...   ...      ...   ...      ...   \n",
       "675      677   0.0    0.0    0.0 -0.0  0.0   0.0   -38.63 -3.76      0.0   \n",
       "676      678   0.0   -0.0    0.0 -0.0  0.0   0.0   -42.26 -5.21     -0.0   \n",
       "677      679  -0.0   -0.0   -0.0 -0.0  0.0   0.0   -40.74 -2.62      0.0   \n",
       "678      680  -0.0    0.0    0.0  0.0  0.0   0.0   -43.33 -5.75     -0.0   \n",
       "679      681  -0.0    0.0    0.0 -0.0  0.0   0.0   -41.20 -5.78     -0.0   \n",
       "\n",
       "     1-4 EEL    EGB  ESURF   GGAS  GSOLV  TOTAL  \n",
       "0        0.0   0.03  -0.00  -0.02   0.03   0.01  \n",
       "1       -0.0  -0.03   0.00   0.02  -0.03  -0.01  \n",
       "2       -0.0   0.17  -0.00  -0.18   0.17  -0.01  \n",
       "3       -0.0   0.11  -0.00  -0.11   0.11  -0.00  \n",
       "4       -0.0   0.22  -0.00  -0.23   0.22  -0.01  \n",
       "..       ...    ...    ...    ...    ...    ...  \n",
       "675      0.0  25.49  -4.76 -42.39  20.72 -21.67  \n",
       "676      0.0  27.91  -5.43 -47.47  22.48 -24.99  \n",
       "677     -0.0  25.06  -4.97 -43.36  20.09 -23.28  \n",
       "678     -0.0  28.71  -5.05 -49.08  23.66 -25.41  \n",
       "679     -0.0  27.29  -4.95 -46.98  22.34 -24.64  \n",
       "\n",
       "[680 rows x 16 columns]"
      ]
     },
     "execution_count": 3,
     "metadata": {},
     "output_type": "execute_result"
    }
   ],
   "source": [
    "df"
   ]
  },
  {
   "cell_type": "code",
   "execution_count": 4,
   "metadata": {},
   "outputs": [
    {
     "data": {
      "image/png": "[encoded data removed]",
      "text/plain": [
       "<Figure size 640x480 with 1 Axes>"
      ]
     },
     "metadata": {},
     "output_type": "display_data"
    }
   ],
   "source": [
    "plot = df.plot(df.columns[0], df.columns[7], title=\"DataFrame Plot\") #kcal/mol"
   ]
  },
  {
   "cell_type": "code",
   "execution_count": 5,
   "metadata": {},
   "outputs": [
    {
     "data": {
      "text/plain": [
       "0.5961612777"
      ]
     },
     "execution_count": 5,
     "metadata": {},
     "output_type": "execute_result"
    }
   ],
   "source": [
    "# k = 0.008314 #kJ/mol/K\n",
    "k = 1.987204259e-3 #kcal/mol/K\n",
    "T = 300      # K\n",
    "\n",
    "kT = k * T   # kcal/mol\n",
    "kT"
   ]
  },
  {
   "cell_type": "code",
   "execution_count": 6,
   "metadata": {},
   "outputs": [
    {
     "data": {
      "text/plain": [
       "0      -0.03\n",
       "1      -0.01\n",
       "2      -0.01\n",
       "3      -0.02\n",
       "4      -0.01\n",
       "       ...  \n",
       "675   -38.63\n",
       "676   -42.26\n",
       "677   -40.74\n",
       "678   -43.33\n",
       "679   -41.20\n",
       "Name: VDWAALS, Length: 680, dtype: float64"
      ]
     },
     "execution_count": 6,
     "metadata": {},
     "output_type": "execute_result"
    }
   ],
   "source": [
    "df.iloc[:,7]"
   ]
  },
  {
   "cell_type": "code",
   "execution_count": 7,
   "metadata": {},
   "outputs": [],
   "source": [
    "#new_df = pd.DataFrame()\n",
    "\n",
    "#frame_column = [ 'frame', df.iloc[:,0] ]\n",
    "boltz_column = [ 'boltz_vdw', df.iloc[:,7] ] "
   ]
  },
  {
   "cell_type": "code",
   "execution_count": 8,
   "metadata": {},
   "outputs": [
    {
     "data": {
      "text/plain": [
       "-56.34"
      ]
     },
     "execution_count": 8,
     "metadata": {},
     "output_type": "execute_result"
    }
   ],
   "source": [
    "min_vdw = min(boltz_column[1])\n",
    "min_vdw"
   ]
  },
  {
   "cell_type": "code",
   "execution_count": 9,
   "metadata": {},
   "outputs": [],
   "source": [
    "new_df = df[['Frame #', 'VDWAALS']].copy()"
   ]
  },
  {
   "cell_type": "code",
   "execution_count": 10,
   "metadata": {},
   "outputs": [
    {
     "data": {
      "text/html": [
       "<div>\n",
       "<style scoped>\n",
       "    .dataframe tbody tr th:only-of-type {\n",
       "        vertical-align: middle;\n",
       "    }\n",
       "\n",
       "    .dataframe tbody tr th {\n",
       "        vertical-align: top;\n",
       "    }\n",
       "\n",
       "    .dataframe thead th {\n",
       "        text-align: right;\n",
       "    }\n",
       "</style>\n",
       "<table border=\"1\" class=\"dataframe\">\n",
       "  <thead>\n",
       "    <tr style=\"text-align: right;\">\n",
       "      <th></th>\n",
       "      <th>Frame #</th>\n",
       "      <th>VDWAALS</th>\n",
       "    </tr>\n",
       "  </thead>\n",
       "  <tbody>\n",
       "    <tr>\n",
       "      <th>0</th>\n",
       "      <td>2</td>\n",
       "      <td>-0.03</td>\n",
       "    </tr>\n",
       "    <tr>\n",
       "      <th>1</th>\n",
       "      <td>3</td>\n",
       "      <td>-0.01</td>\n",
       "    </tr>\n",
       "    <tr>\n",
       "      <th>2</th>\n",
       "      <td>4</td>\n",
       "      <td>-0.01</td>\n",
       "    </tr>\n",
       "    <tr>\n",
       "      <th>3</th>\n",
       "      <td>5</td>\n",
       "      <td>-0.02</td>\n",
       "    </tr>\n",
       "    <tr>\n",
       "      <th>4</th>\n",
       "      <td>6</td>\n",
       "      <td>-0.01</td>\n",
       "    </tr>\n",
       "    <tr>\n",
       "      <th>...</th>\n",
       "      <td>...</td>\n",
       "      <td>...</td>\n",
       "    </tr>\n",
       "    <tr>\n",
       "      <th>675</th>\n",
       "      <td>677</td>\n",
       "      <td>-38.63</td>\n",
       "    </tr>\n",
       "    <tr>\n",
       "      <th>676</th>\n",
       "      <td>678</td>\n",
       "      <td>-42.26</td>\n",
       "    </tr>\n",
       "    <tr>\n",
       "      <th>677</th>\n",
       "      <td>679</td>\n",
       "      <td>-40.74</td>\n",
       "    </tr>\n",
       "    <tr>\n",
       "      <th>678</th>\n",
       "      <td>680</td>\n",
       "      <td>-43.33</td>\n",
       "    </tr>\n",
       "    <tr>\n",
       "      <th>679</th>\n",
       "      <td>681</td>\n",
       "      <td>-41.20</td>\n",
       "    </tr>\n",
       "  </tbody>\n",
       "</table>\n",
       "<p>680 rows × 2 columns</p>\n",
       "</div>"
      ],
      "text/plain": [
       "     Frame #  VDWAALS\n",
       "0          2    -0.03\n",
       "1          3    -0.01\n",
       "2          4    -0.01\n",
       "3          5    -0.02\n",
       "4          6    -0.01\n",
       "..       ...      ...\n",
       "675      677   -38.63\n",
       "676      678   -42.26\n",
       "677      679   -40.74\n",
       "678      680   -43.33\n",
       "679      681   -41.20\n",
       "\n",
       "[680 rows x 2 columns]"
      ]
     },
     "execution_count": 10,
     "metadata": {},
     "output_type": "execute_result"
    }
   ],
   "source": [
    "new_df"
   ]
  },
  {
   "cell_type": "code",
   "execution_count": 11,
   "metadata": {},
   "outputs": [
    {
     "data": {
      "text/plain": [
       "0      1.051610e+00\n",
       "1      1.016915e+00\n",
       "2      1.016915e+00\n",
       "3      1.034117e+00\n",
       "4      1.016915e+00\n",
       "           ...     \n",
       "675    1.384750e+28\n",
       "676    6.106205e+30\n",
       "677    4.769517e+29\n",
       "678    3.674940e+31\n",
       "679    1.031757e+30\n",
       "Name: VDWAALS, Length: 680, dtype: float64"
      ]
     },
     "execution_count": 11,
     "metadata": {},
     "output_type": "execute_result"
    }
   ],
   "source": [
    "np.exp(-1 * boltz_column[1] / kT)"
   ]
  },
  {
   "cell_type": "code",
   "execution_count": 12,
   "metadata": {},
   "outputs": [],
   "source": [
    "new_df['boltz_vdw'] = np.exp(-1 * (boltz_column[1] - min_vdw) / kT) #boltz_column[1]"
   ]
  },
  {
   "cell_type": "code",
   "execution_count": 13,
   "metadata": {},
   "outputs": [
    {
     "data": {
      "text/html": [
       "<div>\n",
       "<style scoped>\n",
       "    .dataframe tbody tr th:only-of-type {\n",
       "        vertical-align: middle;\n",
       "    }\n",
       "\n",
       "    .dataframe tbody tr th {\n",
       "        vertical-align: top;\n",
       "    }\n",
       "\n",
       "    .dataframe thead th {\n",
       "        text-align: right;\n",
       "    }\n",
       "</style>\n",
       "<table border=\"1\" class=\"dataframe\">\n",
       "  <thead>\n",
       "    <tr style=\"text-align: right;\">\n",
       "      <th></th>\n",
       "      <th>Frame #</th>\n",
       "      <th>VDWAALS</th>\n",
       "      <th>boltz_vdw</th>\n",
       "    </tr>\n",
       "  </thead>\n",
       "  <tbody>\n",
       "    <tr>\n",
       "      <th>0</th>\n",
       "      <td>2</td>\n",
       "      <td>-0.03</td>\n",
       "      <td>9.528311e-42</td>\n",
       "    </tr>\n",
       "    <tr>\n",
       "      <th>1</th>\n",
       "      <td>3</td>\n",
       "      <td>-0.01</td>\n",
       "      <td>9.213958e-42</td>\n",
       "    </tr>\n",
       "    <tr>\n",
       "      <th>2</th>\n",
       "      <td>4</td>\n",
       "      <td>-0.01</td>\n",
       "      <td>9.213958e-42</td>\n",
       "    </tr>\n",
       "    <tr>\n",
       "      <th>3</th>\n",
       "      <td>5</td>\n",
       "      <td>-0.02</td>\n",
       "      <td>9.369816e-42</td>\n",
       "    </tr>\n",
       "    <tr>\n",
       "      <th>4</th>\n",
       "      <td>6</td>\n",
       "      <td>-0.01</td>\n",
       "      <td>9.213958e-42</td>\n",
       "    </tr>\n",
       "    <tr>\n",
       "      <th>...</th>\n",
       "      <td>...</td>\n",
       "      <td>...</td>\n",
       "      <td>...</td>\n",
       "    </tr>\n",
       "    <tr>\n",
       "      <th>675</th>\n",
       "      <td>677</td>\n",
       "      <td>-38.63</td>\n",
       "      <td>1.254679e-13</td>\n",
       "    </tr>\n",
       "    <tr>\n",
       "      <th>676</th>\n",
       "      <td>678</td>\n",
       "      <td>-42.26</td>\n",
       "      <td>5.532645e-11</td>\n",
       "    </tr>\n",
       "    <tr>\n",
       "      <th>677</th>\n",
       "      <td>679</td>\n",
       "      <td>-40.74</td>\n",
       "      <td>4.321512e-12</td>\n",
       "    </tr>\n",
       "    <tr>\n",
       "      <th>678</th>\n",
       "      <td>680</td>\n",
       "      <td>-43.33</td>\n",
       "      <td>3.329750e-10</td>\n",
       "    </tr>\n",
       "    <tr>\n",
       "      <th>679</th>\n",
       "      <td>681</td>\n",
       "      <td>-41.20</td>\n",
       "      <td>9.348432e-12</td>\n",
       "    </tr>\n",
       "  </tbody>\n",
       "</table>\n",
       "<p>680 rows × 3 columns</p>\n",
       "</div>"
      ],
      "text/plain": [
       "     Frame #  VDWAALS     boltz_vdw\n",
       "0          2    -0.03  9.528311e-42\n",
       "1          3    -0.01  9.213958e-42\n",
       "2          4    -0.01  9.213958e-42\n",
       "3          5    -0.02  9.369816e-42\n",
       "4          6    -0.01  9.213958e-42\n",
       "..       ...      ...           ...\n",
       "675      677   -38.63  1.254679e-13\n",
       "676      678   -42.26  5.532645e-11\n",
       "677      679   -40.74  4.321512e-12\n",
       "678      680   -43.33  3.329750e-10\n",
       "679      681   -41.20  9.348432e-12\n",
       "\n",
       "[680 rows x 3 columns]"
      ]
     },
     "execution_count": 13,
     "metadata": {},
     "output_type": "execute_result"
    }
   ],
   "source": [
    "new_df"
   ]
  },
  {
   "cell_type": "code",
   "execution_count": 14,
   "metadata": {},
   "outputs": [],
   "source": [
    "z = new_df['boltz_vdw'].sum()"
   ]
  },
  {
   "cell_type": "code",
   "execution_count": 15,
   "metadata": {},
   "outputs": [
    {
     "data": {
      "text/plain": [
       "1.1310190761934762"
      ]
     },
     "execution_count": 15,
     "metadata": {},
     "output_type": "execute_result"
    }
   ],
   "source": [
    "z"
   ]
  },
  {
   "cell_type": "code",
   "execution_count": 16,
   "metadata": {},
   "outputs": [],
   "source": [
    "new_df['prob'] = new_df['boltz_vdw'] / z"
   ]
  },
  {
   "cell_type": "code",
   "execution_count": 17,
   "metadata": {},
   "outputs": [
    {
     "data": {
      "text/html": [
       "<div>\n",
       "<style scoped>\n",
       "    .dataframe tbody tr th:only-of-type {\n",
       "        vertical-align: middle;\n",
       "    }\n",
       "\n",
       "    .dataframe tbody tr th {\n",
       "        vertical-align: top;\n",
       "    }\n",
       "\n",
       "    .dataframe thead th {\n",
       "        text-align: right;\n",
       "    }\n",
       "</style>\n",
       "<table border=\"1\" class=\"dataframe\">\n",
       "  <thead>\n",
       "    <tr style=\"text-align: right;\">\n",
       "      <th></th>\n",
       "      <th>Frame #</th>\n",
       "      <th>VDWAALS</th>\n",
       "      <th>boltz_vdw</th>\n",
       "      <th>prob</th>\n",
       "    </tr>\n",
       "  </thead>\n",
       "  <tbody>\n",
       "    <tr>\n",
       "      <th>0</th>\n",
       "      <td>2</td>\n",
       "      <td>-0.03</td>\n",
       "      <td>9.528311e-42</td>\n",
       "      <td>8.424536e-42</td>\n",
       "    </tr>\n",
       "    <tr>\n",
       "      <th>1</th>\n",
       "      <td>3</td>\n",
       "      <td>-0.01</td>\n",
       "      <td>9.213958e-42</td>\n",
       "      <td>8.146598e-42</td>\n",
       "    </tr>\n",
       "    <tr>\n",
       "      <th>2</th>\n",
       "      <td>4</td>\n",
       "      <td>-0.01</td>\n",
       "      <td>9.213958e-42</td>\n",
       "      <td>8.146598e-42</td>\n",
       "    </tr>\n",
       "    <tr>\n",
       "      <th>3</th>\n",
       "      <td>5</td>\n",
       "      <td>-0.02</td>\n",
       "      <td>9.369816e-42</td>\n",
       "      <td>8.284402e-42</td>\n",
       "    </tr>\n",
       "    <tr>\n",
       "      <th>4</th>\n",
       "      <td>6</td>\n",
       "      <td>-0.01</td>\n",
       "      <td>9.213958e-42</td>\n",
       "      <td>8.146598e-42</td>\n",
       "    </tr>\n",
       "    <tr>\n",
       "      <th>...</th>\n",
       "      <td>...</td>\n",
       "      <td>...</td>\n",
       "      <td>...</td>\n",
       "      <td>...</td>\n",
       "    </tr>\n",
       "    <tr>\n",
       "      <th>675</th>\n",
       "      <td>677</td>\n",
       "      <td>-38.63</td>\n",
       "      <td>1.254679e-13</td>\n",
       "      <td>1.109335e-13</td>\n",
       "    </tr>\n",
       "    <tr>\n",
       "      <th>676</th>\n",
       "      <td>678</td>\n",
       "      <td>-42.26</td>\n",
       "      <td>5.532645e-11</td>\n",
       "      <td>4.891734e-11</td>\n",
       "    </tr>\n",
       "    <tr>\n",
       "      <th>677</th>\n",
       "      <td>679</td>\n",
       "      <td>-40.74</td>\n",
       "      <td>4.321512e-12</td>\n",
       "      <td>3.820901e-12</td>\n",
       "    </tr>\n",
       "    <tr>\n",
       "      <th>678</th>\n",
       "      <td>680</td>\n",
       "      <td>-43.33</td>\n",
       "      <td>3.329750e-10</td>\n",
       "      <td>2.944026e-10</td>\n",
       "    </tr>\n",
       "    <tr>\n",
       "      <th>679</th>\n",
       "      <td>681</td>\n",
       "      <td>-41.20</td>\n",
       "      <td>9.348432e-12</td>\n",
       "      <td>8.265495e-12</td>\n",
       "    </tr>\n",
       "  </tbody>\n",
       "</table>\n",
       "<p>680 rows × 4 columns</p>\n",
       "</div>"
      ],
      "text/plain": [
       "     Frame #  VDWAALS     boltz_vdw          prob\n",
       "0          2    -0.03  9.528311e-42  8.424536e-42\n",
       "1          3    -0.01  9.213958e-42  8.146598e-42\n",
       "2          4    -0.01  9.213958e-42  8.146598e-42\n",
       "3          5    -0.02  9.369816e-42  8.284402e-42\n",
       "4          6    -0.01  9.213958e-42  8.146598e-42\n",
       "..       ...      ...           ...           ...\n",
       "675      677   -38.63  1.254679e-13  1.109335e-13\n",
       "676      678   -42.26  5.532645e-11  4.891734e-11\n",
       "677      679   -40.74  4.321512e-12  3.820901e-12\n",
       "678      680   -43.33  3.329750e-10  2.944026e-10\n",
       "679      681   -41.20  9.348432e-12  8.265495e-12\n",
       "\n",
       "[680 rows x 4 columns]"
      ]
     },
     "execution_count": 17,
     "metadata": {},
     "output_type": "execute_result"
    }
   ],
   "source": [
    "new_df"
   ]
  },
  {
   "cell_type": "code",
   "execution_count": 18,
   "metadata": {},
   "outputs": [
    {
     "name": "stdout",
     "output_type": "stream",
     "text": [
      "\n",
      "\t sum over probabilities MUST BE 1. Final value is 1.000.\n"
     ]
    }
   ],
   "source": [
    "check = new_df['prob'].sum()\n",
    "print(\"\\n\\t sum over probabilities MUST BE 1. Final value is %5.3f.\" % check)"
   ]
  },
  {
   "cell_type": "code",
   "execution_count": 19,
   "metadata": {},
   "outputs": [
    {
     "data": {
      "image/png": "[encoded data removed]",
      "text/plain": [
       "<Figure size 640x480 with 1 Axes>"
      ]
     },
     "metadata": {},
     "output_type": "display_data"
    }
   ],
   "source": [
    "plot = df.plot(df.columns[0], df.columns[7], title=\"DataFrame Plot\")"
   ]
  },
  {
   "cell_type": "code",
   "execution_count": 20,
   "metadata": {},
   "outputs": [
    {
     "data": {
      "image/png": "[encoded data removed]",
      "text/plain": [
       "<Figure size 640x480 with 1 Axes>"
      ]
     },
     "metadata": {},
     "output_type": "display_data"
    }
   ],
   "source": [
    "plot = new_df.plot(new_df.columns[0], new_df.columns[3], title=\"DataFrame Plot\")"
   ]
  },
  {
   "cell_type": "code",
   "execution_count": 21,
   "metadata": {},
   "outputs": [],
   "source": [
    "new_df['weigthed_vdw'] = ( new_df['VDWAALS'] * new_df['prob'] )"
   ]
  },
  {
   "cell_type": "code",
   "execution_count": 22,
   "metadata": {},
   "outputs": [
    {
     "data": {
      "text/html": [
       "<div>\n",
       "<style scoped>\n",
       "    .dataframe tbody tr th:only-of-type {\n",
       "        vertical-align: middle;\n",
       "    }\n",
       "\n",
       "    .dataframe tbody tr th {\n",
       "        vertical-align: top;\n",
       "    }\n",
       "\n",
       "    .dataframe thead th {\n",
       "        text-align: right;\n",
       "    }\n",
       "</style>\n",
       "<table border=\"1\" class=\"dataframe\">\n",
       "  <thead>\n",
       "    <tr style=\"text-align: right;\">\n",
       "      <th></th>\n",
       "      <th>Frame #</th>\n",
       "      <th>VDWAALS</th>\n",
       "      <th>boltz_vdw</th>\n",
       "      <th>prob</th>\n",
       "      <th>weigthed_vdw</th>\n",
       "    </tr>\n",
       "  </thead>\n",
       "  <tbody>\n",
       "    <tr>\n",
       "      <th>0</th>\n",
       "      <td>2</td>\n",
       "      <td>-0.03</td>\n",
       "      <td>9.528311e-42</td>\n",
       "      <td>8.424536e-42</td>\n",
       "      <td>-2.527361e-43</td>\n",
       "    </tr>\n",
       "    <tr>\n",
       "      <th>1</th>\n",
       "      <td>3</td>\n",
       "      <td>-0.01</td>\n",
       "      <td>9.213958e-42</td>\n",
       "      <td>8.146598e-42</td>\n",
       "      <td>-8.146598e-44</td>\n",
       "    </tr>\n",
       "    <tr>\n",
       "      <th>2</th>\n",
       "      <td>4</td>\n",
       "      <td>-0.01</td>\n",
       "      <td>9.213958e-42</td>\n",
       "      <td>8.146598e-42</td>\n",
       "      <td>-8.146598e-44</td>\n",
       "    </tr>\n",
       "    <tr>\n",
       "      <th>3</th>\n",
       "      <td>5</td>\n",
       "      <td>-0.02</td>\n",
       "      <td>9.369816e-42</td>\n",
       "      <td>8.284402e-42</td>\n",
       "      <td>-1.656880e-43</td>\n",
       "    </tr>\n",
       "    <tr>\n",
       "      <th>4</th>\n",
       "      <td>6</td>\n",
       "      <td>-0.01</td>\n",
       "      <td>9.213958e-42</td>\n",
       "      <td>8.146598e-42</td>\n",
       "      <td>-8.146598e-44</td>\n",
       "    </tr>\n",
       "    <tr>\n",
       "      <th>...</th>\n",
       "      <td>...</td>\n",
       "      <td>...</td>\n",
       "      <td>...</td>\n",
       "      <td>...</td>\n",
       "      <td>...</td>\n",
       "    </tr>\n",
       "    <tr>\n",
       "      <th>675</th>\n",
       "      <td>677</td>\n",
       "      <td>-38.63</td>\n",
       "      <td>1.254679e-13</td>\n",
       "      <td>1.109335e-13</td>\n",
       "      <td>-4.285361e-12</td>\n",
       "    </tr>\n",
       "    <tr>\n",
       "      <th>676</th>\n",
       "      <td>678</td>\n",
       "      <td>-42.26</td>\n",
       "      <td>5.532645e-11</td>\n",
       "      <td>4.891734e-11</td>\n",
       "      <td>-2.067247e-09</td>\n",
       "    </tr>\n",
       "    <tr>\n",
       "      <th>677</th>\n",
       "      <td>679</td>\n",
       "      <td>-40.74</td>\n",
       "      <td>4.321512e-12</td>\n",
       "      <td>3.820901e-12</td>\n",
       "      <td>-1.556635e-10</td>\n",
       "    </tr>\n",
       "    <tr>\n",
       "      <th>678</th>\n",
       "      <td>680</td>\n",
       "      <td>-43.33</td>\n",
       "      <td>3.329750e-10</td>\n",
       "      <td>2.944026e-10</td>\n",
       "      <td>-1.275647e-08</td>\n",
       "    </tr>\n",
       "    <tr>\n",
       "      <th>679</th>\n",
       "      <td>681</td>\n",
       "      <td>-41.20</td>\n",
       "      <td>9.348432e-12</td>\n",
       "      <td>8.265495e-12</td>\n",
       "      <td>-3.405384e-10</td>\n",
       "    </tr>\n",
       "  </tbody>\n",
       "</table>\n",
       "<p>680 rows × 5 columns</p>\n",
       "</div>"
      ],
      "text/plain": [
       "     Frame #  VDWAALS     boltz_vdw          prob  weigthed_vdw\n",
       "0          2    -0.03  9.528311e-42  8.424536e-42 -2.527361e-43\n",
       "1          3    -0.01  9.213958e-42  8.146598e-42 -8.146598e-44\n",
       "2          4    -0.01  9.213958e-42  8.146598e-42 -8.146598e-44\n",
       "3          5    -0.02  9.369816e-42  8.284402e-42 -1.656880e-43\n",
       "4          6    -0.01  9.213958e-42  8.146598e-42 -8.146598e-44\n",
       "..       ...      ...           ...           ...           ...\n",
       "675      677   -38.63  1.254679e-13  1.109335e-13 -4.285361e-12\n",
       "676      678   -42.26  5.532645e-11  4.891734e-11 -2.067247e-09\n",
       "677      679   -40.74  4.321512e-12  3.820901e-12 -1.556635e-10\n",
       "678      680   -43.33  3.329750e-10  2.944026e-10 -1.275647e-08\n",
       "679      681   -41.20  9.348432e-12  8.265495e-12 -3.405384e-10\n",
       "\n",
       "[680 rows x 5 columns]"
      ]
     },
     "execution_count": 22,
     "metadata": {},
     "output_type": "execute_result"
    }
   ],
   "source": [
    "new_df"
   ]
  },
  {
   "cell_type": "code",
   "execution_count": 23,
   "metadata": {},
   "outputs": [
    {
     "name": "stdout",
     "output_type": "stream",
     "text": [
      "\n",
      "\t <E_vdw> = -56.12 kcal/mol\n"
     ]
    }
   ],
   "source": [
    "e_avg = new_df['weigthed_vdw'].sum()\n",
    "print(\"\\n\\t <E_vdw> = %5.2f kcal/mol\" % e_avg)"
   ]
  },
  {
   "cell_type": "code",
   "execution_count": 24,
   "metadata": {},
   "outputs": [
    {
     "data": {
      "text/plain": [
       "515"
      ]
     },
     "execution_count": 24,
     "metadata": {},
     "output_type": "execute_result"
    }
   ],
   "source": [
    "list(new_df['weigthed_vdw']).index(min(list(new_df['weigthed_vdw'])))"
   ]
  },
  {
   "cell_type": "code",
   "execution_count": null,
   "metadata": {},
   "outputs": [],
   "source": []
  }
 ],
 "metadata": {
  "kernelspec": {
   "display_name": "Python 3.10.8 ('ilumpy')",
   "language": "python",
   "name": "python3"
  },
  "language_info": {
   "codemirror_mode": {
    "name": "ipython",
    "version": 3
   },
   "file_extension": ".py",
   "mimetype": "text/x-python",
   "name": "python",
   "nbconvert_exporter": "python",
   "pygments_lexer": "ipython3",
   "version": "3.10.8"
  },
  "orig_nbformat": 4,
  "vscode": {
   "interpreter": {
    "hash": "8529d5d23f5cbf0c063605dab2c59e7e62347018e6f532e027d68294076af1e8"
   }
  }
 },
 "nbformat": 4,
 "nbformat_minor": 2
}
